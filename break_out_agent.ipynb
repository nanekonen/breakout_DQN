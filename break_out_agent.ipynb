{
 "cells": [
  {
   "cell_type": "code",
   "execution_count": 3,
   "metadata": {},
   "outputs": [
    {
     "data": {
      "image/png": "[encoded data removed]",
      "text/plain": [
       "<Figure size 640x480 with 1 Axes>"
      ]
     },
     "metadata": {},
     "output_type": "display_data"
    }
   ],
   "source": [
    "import gymnasium as gym\n",
    "import cv2\n",
    "import matplotlib\n",
    "import matplotlib.pyplot as plt\n",
    "from IPython import display\n",
    "\n",
    "import torch\n",
    "import torch.nn as nn\n",
    "\n",
    "class Dueling_Network(nn.Module):\n",
    "    def __init__(self, n_frame, n_actions):\n",
    "        super(Dueling_Network, self).__init__()\n",
    "        self.relu = nn.ReLU()\n",
    "        self.conv1 = nn.Conv2d(n_frame,32,8,4)\n",
    "        self.conv2 = nn.Conv2d(32,64,4,2)\n",
    "        self.conv3 = nn.Conv2d(64,64,3,1)\n",
    "        self.act_fc = nn.Linear(3136 , 512)\n",
    "        self.act_fc2 = nn.Linear(512, n_actions)\n",
    "        self.value_fc = nn.Linear(3136 , 512)\n",
    "        self.value_fc2 = nn.Linear(512, 1)\n",
    "        torch.nn.init.kaiming_normal_(self.conv1.weight)\n",
    "        torch.nn.init.kaiming_normal_(self.conv2.weight)\n",
    "        torch.nn.init.kaiming_normal_(self.conv3.weight)\n",
    "        torch.nn.init.kaiming_normal_(self.act_fc.weight)\n",
    "        torch.nn.init.kaiming_normal_(self.act_fc2.weight)\n",
    "        torch.nn.init.kaiming_normal_(self.value_fc.weight)\n",
    "        torch.nn.init.kaiming_normal_(self.value_fc2.weight)      \n",
    "        self.flatten = nn.Flatten()  \n",
    "\n",
    "    def forward(self, x):\n",
    "        x = self.relu(self.conv1(x))\n",
    "        x = self.relu(self.conv2(x))\n",
    "        x = self.relu(self.conv3(x))\n",
    "        x = self.flatten(x)\n",
    "        x_act = self.relu(self.act_fc(x))\n",
    "        x_act = self.act_fc2(x_act)\n",
    "        x_val = self.relu(self.value_fc(x))\n",
    "        x_val = self.value_fc2(x_val)\n",
    "        x_act_ave = torch.mean(x_act, dim=1, keepdim=True)\n",
    "        q = x_val + x_act - x_act_ave\n",
    "        return q\n",
    "\n",
    "device = torch.device(\"cuda\" if torch.cuda.is_available() else \"cpu\")\n",
    "\n",
    "env = gym.make('ALE/Breakout-v5', render_mode=\"rgb_array\")\n",
    "resize = 84\n",
    "n_frame = 6\n",
    "n_actions = env.action_space.n\n",
    "\n",
    "state, info = env.reset()\n",
    "old_life = info['lives']\n",
    "n_observations = len(state.flatten())\n",
    "target_net = Dueling_Network(n_frame, n_actions).to(device)\n",
    "target_net.load_state_dict(torch.load('300000.pth'))\n",
    "target_net.eval()\n",
    "\n",
    "state_frames = torch.zeros((1, n_frame, resize, resize), dtype=torch.float32, device=device)\n",
    "observation, reward, terminated, truncated, info = env.step(1)\n",
    "observation_frame = cv2.cvtColor(observation, cv2.COLOR_BGR2GRAY)/255.\n",
    "observation_frame = cv2.resize(src=observation_frame[32:,8:152], dsize=(resize, resize))\n",
    "state_frames[:,0,:,:] = torch.tensor(observation_frame, dtype=torch.float32, device=device).unsqueeze(0)\n",
    "\n",
    "\n",
    "while True:\n",
    "    action = target_net(state_frames).argmax().view(1, 1)\n",
    "\n",
    "    if old_life > info['lives']:\n",
    "        old_life = info['lives']\n",
    "        action = 1\n",
    "    observation, reward, terminated, truncated, info = env.step(action)\n",
    "    plt.imshow(observation)\n",
    "    display.display(plt.gcf())\n",
    "    display.clear_output(wait=True)\n",
    "\n",
    "    observation_frame = cv2.cvtColor(observation, cv2.COLOR_BGR2GRAY)/255.\n",
    "    observation_frame = cv2.resize(src=observation_frame[32:,8:152], dsize=(resize, resize))\n",
    "    observation_frame = torch.tensor(observation_frame, dtype=torch.float32, device=device).unsqueeze(0)\n",
    "\n",
    "    state_frames = torch.roll(input=state_frames, shifts=1, dims=1)\n",
    "    state_frames[:,0,:,:] = observation_frame\n",
    "    if terminated or truncated:\n",
    "        break"
   ]
  }
 ],
 "metadata": {
  "kernelspec": {
   "display_name": "base",
   "language": "python",
   "name": "python3"
  },
  "language_info": {
   "codemirror_mode": {
    "name": "ipython",
    "version": 3
   },
   "file_extension": ".py",
   "mimetype": "text/x-python",
   "name": "python",
   "nbconvert_exporter": "python",
   "pygments_lexer": "ipython3",
   "version": "3.11.5"
  }
 },
 "nbformat": 4,
 "nbformat_minor": 2
}
